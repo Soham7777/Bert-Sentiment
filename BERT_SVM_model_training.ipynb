{
  "cells": [
    {
      "cell_type": "markdown",
      "metadata": {
        "id": "MxF2mtNqNsQL"
      },
      "source": [
        "## Sentiment Classification On Amazon reviews Data\n",
        "---"
      ]
    },
    {
      "cell_type": "code",
      "execution_count": null,
      "metadata": {
        "id": "TkQ9vYH0GSDD"
      },
      "outputs": [],
      "source": [
        "!pip3 install tensorflow_text"
      ]
    },
    {
      "cell_type": "code",
      "execution_count": 3,
      "metadata": {
        "colab": {
          "base_uri": "https://localhost:8080/"
        },
        "id": "K1U2mEy83TJJ",
        "outputId": "7b34807e-62ef-4e77-e91c-1814128db34f"
      },
      "outputs": [
        {
          "name": "stdout",
          "output_type": "stream",
          "text": [
            "Mounted at /content/drive\n"
          ]
        }
      ],
      "source": [
        "from google.colab import drive\n",
        "drive.mount('/content/drive')"
      ]
    },
    {
      "cell_type": "markdown",
      "metadata": {
        "id": "Unf2DBH9Nw6L"
      },
      "source": [
        "Dataset Link: https://archive.ics.uci.edu/ml/datasets/Sentiment+Labelled+Sentences"
      ]
    },
    {
      "cell_type": "code",
      "execution_count": 1,
      "metadata": {
        "id": "31N5rixmMEGl"
      },
      "outputs": [],
      "source": [
        "import pandas as pd\n",
        "import numpy as np\n",
        "import tensorflow_hub as hub\n",
        "import tensorflow_text as text\n",
        "import tensorflow as tf"
      ]
    },
    {
      "cell_type": "markdown",
      "metadata": {
        "id": "-jHuRTGRMmZC"
      },
      "source": [
        "Reading the data from a text file"
      ]
    },
    {
      "cell_type": "code",
      "execution_count": 2,
      "metadata": {
        "colab": {
          "base_uri": "https://localhost:8080/",
          "height": 424
        },
        "id": "akwsQdgpN8_C",
        "outputId": "ce041534-f1d1-4c0d-a807-16dc4d928b17"
      },
      "outputs": [
        {
          "data": {
            "text/html": [
              "\n",
              "  <div id=\"df-96391b2e-8693-4562-9e21-2679ddd977b7\" class=\"colab-df-container\">\n",
              "    <div>\n",
              "<style scoped>\n",
              "    .dataframe tbody tr th:only-of-type {\n",
              "        vertical-align: middle;\n",
              "    }\n",
              "\n",
              "    .dataframe tbody tr th {\n",
              "        vertical-align: top;\n",
              "    }\n",
              "\n",
              "    .dataframe thead th {\n",
              "        text-align: right;\n",
              "    }\n",
              "</style>\n",
              "<table border=\"1\" class=\"dataframe\">\n",
              "  <thead>\n",
              "    <tr style=\"text-align: right;\">\n",
              "      <th></th>\n",
              "      <th>Text</th>\n",
              "      <th>Sentiment</th>\n",
              "    </tr>\n",
              "  </thead>\n",
              "  <tbody>\n",
              "    <tr>\n",
              "      <th>0</th>\n",
              "      <td>So there is no way for me to plug it in here i...</td>\n",
              "      <td>0</td>\n",
              "    </tr>\n",
              "    <tr>\n",
              "      <th>1</th>\n",
              "      <td>Good case, Excellent value.</td>\n",
              "      <td>1</td>\n",
              "    </tr>\n",
              "    <tr>\n",
              "      <th>2</th>\n",
              "      <td>Great for the jawbone.</td>\n",
              "      <td>1</td>\n",
              "    </tr>\n",
              "    <tr>\n",
              "      <th>3</th>\n",
              "      <td>Tied to charger for conversations lasting more...</td>\n",
              "      <td>0</td>\n",
              "    </tr>\n",
              "    <tr>\n",
              "      <th>4</th>\n",
              "      <td>The mic is great.</td>\n",
              "      <td>1</td>\n",
              "    </tr>\n",
              "    <tr>\n",
              "      <th>...</th>\n",
              "      <td>...</td>\n",
              "      <td>...</td>\n",
              "    </tr>\n",
              "    <tr>\n",
              "      <th>995</th>\n",
              "      <td>The screen does get smudged easily because it ...</td>\n",
              "      <td>0</td>\n",
              "    </tr>\n",
              "    <tr>\n",
              "      <th>996</th>\n",
              "      <td>What a piece of junk.. I lose more calls on th...</td>\n",
              "      <td>0</td>\n",
              "    </tr>\n",
              "    <tr>\n",
              "      <th>997</th>\n",
              "      <td>Item Does Not Match Picture.</td>\n",
              "      <td>0</td>\n",
              "    </tr>\n",
              "    <tr>\n",
              "      <th>998</th>\n",
              "      <td>The only thing that disappoint me is the infra...</td>\n",
              "      <td>0</td>\n",
              "    </tr>\n",
              "    <tr>\n",
              "      <th>999</th>\n",
              "      <td>You can not answer calls with the unit, never ...</td>\n",
              "      <td>0</td>\n",
              "    </tr>\n",
              "  </tbody>\n",
              "</table>\n",
              "<p>1000 rows × 2 columns</p>\n",
              "</div>\n",
              "    <div class=\"colab-df-buttons\">\n",
              "\n",
              "  <div class=\"colab-df-container\">\n",
              "    <button class=\"colab-df-convert\" onclick=\"convertToInteractive('df-96391b2e-8693-4562-9e21-2679ddd977b7')\"\n",
              "            title=\"Convert this dataframe to an interactive table.\"\n",
              "            style=\"display:none;\">\n",
              "\n",
              "  <svg xmlns=\"http://www.w3.org/2000/svg\" height=\"24px\" viewBox=\"0 -960 960 960\">\n",
              "    <path d=\"M120-120v-720h720v720H120Zm60-500h600v-160H180v160Zm220 220h160v-160H400v160Zm0 220h160v-160H400v160ZM180-400h160v-160H180v160Zm440 0h160v-160H620v160ZM180-180h160v-160H180v160Zm440 0h160v-160H620v160Z\"/>\n",
              "  </svg>\n",
              "    </button>\n",
              "\n",
              "  <style>\n",
              "    .colab-df-container {\n",
              "      display:flex;\n",
              "      gap: 12px;\n",
              "    }\n",
              "\n",
              "    .colab-df-convert {\n",
              "      background-color: #E8F0FE;\n",
              "      border: none;\n",
              "      border-radius: 50%;\n",
              "      cursor: pointer;\n",
              "      display: none;\n",
              "      fill: #1967D2;\n",
              "      height: 32px;\n",
              "      padding: 0 0 0 0;\n",
              "      width: 32px;\n",
              "    }\n",
              "\n",
              "    .colab-df-convert:hover {\n",
              "      background-color: #E2EBFA;\n",
              "      box-shadow: 0px 1px 2px rgba(60, 64, 67, 0.3), 0px 1px 3px 1px rgba(60, 64, 67, 0.15);\n",
              "      fill: #174EA6;\n",
              "    }\n",
              "\n",
              "    .colab-df-buttons div {\n",
              "      margin-bottom: 4px;\n",
              "    }\n",
              "\n",
              "    [theme=dark] .colab-df-convert {\n",
              "      background-color: #3B4455;\n",
              "      fill: #D2E3FC;\n",
              "    }\n",
              "\n",
              "    [theme=dark] .colab-df-convert:hover {\n",
              "      background-color: #434B5C;\n",
              "      box-shadow: 0px 1px 3px 1px rgba(0, 0, 0, 0.15);\n",
              "      filter: drop-shadow(0px 1px 2px rgba(0, 0, 0, 0.3));\n",
              "      fill: #FFFFFF;\n",
              "    }\n",
              "  </style>\n",
              "\n",
              "    <script>\n",
              "      const buttonEl =\n",
              "        document.querySelector('#df-96391b2e-8693-4562-9e21-2679ddd977b7 button.colab-df-convert');\n",
              "      buttonEl.style.display =\n",
              "        google.colab.kernel.accessAllowed ? 'block' : 'none';\n",
              "\n",
              "      async function convertToInteractive(key) {\n",
              "        const element = document.querySelector('#df-96391b2e-8693-4562-9e21-2679ddd977b7');\n",
              "        const dataTable =\n",
              "          await google.colab.kernel.invokeFunction('convertToInteractive',\n",
              "                                                    [key], {});\n",
              "        if (!dataTable) return;\n",
              "\n",
              "        const docLinkHtml = 'Like what you see? Visit the ' +\n",
              "          '<a target=\"_blank\" href=https://colab.research.google.com/notebooks/data_table.ipynb>data table notebook</a>'\n",
              "          + ' to learn more about interactive tables.';\n",
              "        element.innerHTML = '';\n",
              "        dataTable['output_type'] = 'display_data';\n",
              "        await google.colab.output.renderOutput(dataTable, element);\n",
              "        const docLink = document.createElement('div');\n",
              "        docLink.innerHTML = docLinkHtml;\n",
              "        element.appendChild(docLink);\n",
              "      }\n",
              "    </script>\n",
              "  </div>\n",
              "\n",
              "\n",
              "<div id=\"df-8177a041-e421-4c3b-a95b-ec562c28f6ec\">\n",
              "  <button class=\"colab-df-quickchart\" onclick=\"quickchart('df-8177a041-e421-4c3b-a95b-ec562c28f6ec')\"\n",
              "            title=\"Suggest charts.\"\n",
              "            style=\"display:none;\">\n",
              "\n",
              "<svg xmlns=\"http://www.w3.org/2000/svg\" height=\"24px\"viewBox=\"0 0 24 24\"\n",
              "     width=\"24px\">\n",
              "    <g>\n",
              "        <path d=\"M19 3H5c-1.1 0-2 .9-2 2v14c0 1.1.9 2 2 2h14c1.1 0 2-.9 2-2V5c0-1.1-.9-2-2-2zM9 17H7v-7h2v7zm4 0h-2V7h2v10zm4 0h-2v-4h2v4z\"/>\n",
              "    </g>\n",
              "</svg>\n",
              "  </button>\n",
              "\n",
              "<style>\n",
              "  .colab-df-quickchart {\n",
              "      --bg-color: #E8F0FE;\n",
              "      --fill-color: #1967D2;\n",
              "      --hover-bg-color: #E2EBFA;\n",
              "      --hover-fill-color: #174EA6;\n",
              "      --disabled-fill-color: #AAA;\n",
              "      --disabled-bg-color: #DDD;\n",
              "  }\n",
              "\n",
              "  [theme=dark] .colab-df-quickchart {\n",
              "      --bg-color: #3B4455;\n",
              "      --fill-color: #D2E3FC;\n",
              "      --hover-bg-color: #434B5C;\n",
              "      --hover-fill-color: #FFFFFF;\n",
              "      --disabled-bg-color: #3B4455;\n",
              "      --disabled-fill-color: #666;\n",
              "  }\n",
              "\n",
              "  .colab-df-quickchart {\n",
              "    background-color: var(--bg-color);\n",
              "    border: none;\n",
              "    border-radius: 50%;\n",
              "    cursor: pointer;\n",
              "    display: none;\n",
              "    fill: var(--fill-color);\n",
              "    height: 32px;\n",
              "    padding: 0;\n",
              "    width: 32px;\n",
              "  }\n",
              "\n",
              "  .colab-df-quickchart:hover {\n",
              "    background-color: var(--hover-bg-color);\n",
              "    box-shadow: 0 1px 2px rgba(60, 64, 67, 0.3), 0 1px 3px 1px rgba(60, 64, 67, 0.15);\n",
              "    fill: var(--button-hover-fill-color);\n",
              "  }\n",
              "\n",
              "  .colab-df-quickchart-complete:disabled,\n",
              "  .colab-df-quickchart-complete:disabled:hover {\n",
              "    background-color: var(--disabled-bg-color);\n",
              "    fill: var(--disabled-fill-color);\n",
              "    box-shadow: none;\n",
              "  }\n",
              "\n",
              "  .colab-df-spinner {\n",
              "    border: 2px solid var(--fill-color);\n",
              "    border-color: transparent;\n",
              "    border-bottom-color: var(--fill-color);\n",
              "    animation:\n",
              "      spin 1s steps(1) infinite;\n",
              "  }\n",
              "\n",
              "  @keyframes spin {\n",
              "    0% {\n",
              "      border-color: transparent;\n",
              "      border-bottom-color: var(--fill-color);\n",
              "      border-left-color: var(--fill-color);\n",
              "    }\n",
              "    20% {\n",
              "      border-color: transparent;\n",
              "      border-left-color: var(--fill-color);\n",
              "      border-top-color: var(--fill-color);\n",
              "    }\n",
              "    30% {\n",
              "      border-color: transparent;\n",
              "      border-left-color: var(--fill-color);\n",
              "      border-top-color: var(--fill-color);\n",
              "      border-right-color: var(--fill-color);\n",
              "    }\n",
              "    40% {\n",
              "      border-color: transparent;\n",
              "      border-right-color: var(--fill-color);\n",
              "      border-top-color: var(--fill-color);\n",
              "    }\n",
              "    60% {\n",
              "      border-color: transparent;\n",
              "      border-right-color: var(--fill-color);\n",
              "    }\n",
              "    80% {\n",
              "      border-color: transparent;\n",
              "      border-right-color: var(--fill-color);\n",
              "      border-bottom-color: var(--fill-color);\n",
              "    }\n",
              "    90% {\n",
              "      border-color: transparent;\n",
              "      border-bottom-color: var(--fill-color);\n",
              "    }\n",
              "  }\n",
              "</style>\n",
              "\n",
              "  <script>\n",
              "    async function quickchart(key) {\n",
              "      const quickchartButtonEl =\n",
              "        document.querySelector('#' + key + ' button');\n",
              "      quickchartButtonEl.disabled = true;  // To prevent multiple clicks.\n",
              "      quickchartButtonEl.classList.add('colab-df-spinner');\n",
              "      try {\n",
              "        const charts = await google.colab.kernel.invokeFunction(\n",
              "            'suggestCharts', [key], {});\n",
              "      } catch (error) {\n",
              "        console.error('Error during call to suggestCharts:', error);\n",
              "      }\n",
              "      quickchartButtonEl.classList.remove('colab-df-spinner');\n",
              "      quickchartButtonEl.classList.add('colab-df-quickchart-complete');\n",
              "    }\n",
              "    (() => {\n",
              "      let quickchartButtonEl =\n",
              "        document.querySelector('#df-8177a041-e421-4c3b-a95b-ec562c28f6ec button');\n",
              "      quickchartButtonEl.style.display =\n",
              "        google.colab.kernel.accessAllowed ? 'block' : 'none';\n",
              "    })();\n",
              "  </script>\n",
              "</div>\n",
              "    </div>\n",
              "  </div>\n"
            ],
            "text/plain": [
              "                                                  Text  Sentiment\n",
              "0    So there is no way for me to plug it in here i...          0\n",
              "1                          Good case, Excellent value.          1\n",
              "2                               Great for the jawbone.          1\n",
              "3    Tied to charger for conversations lasting more...          0\n",
              "4                                    The mic is great.          1\n",
              "..                                                 ...        ...\n",
              "995  The screen does get smudged easily because it ...          0\n",
              "996  What a piece of junk.. I lose more calls on th...          0\n",
              "997                       Item Does Not Match Picture.          0\n",
              "998  The only thing that disappoint me is the infra...          0\n",
              "999  You can not answer calls with the unit, never ...          0\n",
              "\n",
              "[1000 rows x 2 columns]"
            ]
          },
          "execution_count": 2,
          "metadata": {},
          "output_type": "execute_result"
        }
      ],
      "source": [
        "data = pd.read_csv(\"/content/amazon_cells_labelled.txt\", delimiter='\\t', header=None)\n",
        "data.columns = [\"Text\", \"Sentiment\"] #1 positve 0 Negative\n",
        "data"
      ]
    },
    {
      "cell_type": "code",
      "execution_count": 3,
      "metadata": {
        "colab": {
          "base_uri": "https://localhost:8080/"
        },
        "id": "D8PqXelcC9cf",
        "outputId": "786104cf-cbe1-4f3b-8e9a-ac2ad8ba3944"
      },
      "outputs": [
        {
          "data": {
            "text/plain": [
              "0    500\n",
              "1    500\n",
              "Name: Sentiment, dtype: int64"
            ]
          },
          "execution_count": 3,
          "metadata": {},
          "output_type": "execute_result"
        }
      ],
      "source": [
        "#Here we can see the data is not imbalanced\n",
        "data['Sentiment'].value_counts()"
      ]
    },
    {
      "cell_type": "markdown",
      "metadata": {
        "id": "OR-8kBDmDokj"
      },
      "source": [
        "Splitting Data into train and test"
      ]
    },
    {
      "cell_type": "code",
      "execution_count": 4,
      "metadata": {
        "id": "Gex69CgVDAM6"
      },
      "outputs": [],
      "source": [
        "from sklearn.model_selection import train_test_split\n",
        "\n",
        "X_train,X_test,y_train,y_test = train_test_split(data['Text'],data['Sentiment'],test_size = 0.25)"
      ]
    },
    {
      "cell_type": "code",
      "execution_count": 7,
      "metadata": {
        "colab": {
          "base_uri": "https://localhost:8080/"
        },
        "id": "SrJDePUoER6K",
        "outputId": "0d15b6e4-2140-48f2-9e9d-a05ba64d1c0a"
      },
      "outputs": [
        {
          "data": {
            "text/plain": [
              "972                          Earbud piece breaks easily.\n",
              "545    No shifting, no bubbling, no peeling, not even...\n",
              "183    I have this phone and it is a thorn in my side...\n",
              "Name: Text, dtype: object"
            ]
          },
          "execution_count": 7,
          "metadata": {},
          "output_type": "execute_result"
        }
      ],
      "source": [
        "X_train.head(3)"
      ]
    },
    {
      "cell_type": "markdown",
      "metadata": {
        "id": "ioFbyKzDEge6"
      },
      "source": [
        "Importing the bert module to get the embedding vectors"
      ]
    },
    {
      "cell_type": "code",
      "execution_count": 5,
      "metadata": {
        "id": "hkhKPX1SEcYT"
      },
      "outputs": [],
      "source": [
        "bert_encoder_url = \"https://tfhub.dev/tensorflow/bert_en_uncased_L-12_H-768_A-12/4\"\n",
        "preprocess_url = \"https://tfhub.dev/tensorflow/bert_en_uncased_preprocess/3\""
      ]
    },
    {
      "cell_type": "code",
      "execution_count": 24,
      "metadata": {
        "id": "CrI0iwCNFFWY"
      },
      "outputs": [],
      "source": [
        "bert_preprocess_model = hub.KerasLayer(preprocess_url)\n",
        "bert_encoder_model = hub.KerasLayer(bert_encoder_url)"
      ]
    },
    {
      "cell_type": "markdown",
      "metadata": {
        "id": "qCSh6k6hFdhx"
      },
      "source": [
        "Function to get embedding for all the sentences"
      ]
    },
    {
      "cell_type": "code",
      "execution_count": 10,
      "metadata": {
        "id": "Y-ArZv3pFXs6"
      },
      "outputs": [],
      "source": [
        "def sequence_embedding(sequence):\n",
        "  preprocessed_text = bert_preprocess_model(sequence)\n",
        "  return bert_encoder_model(preprocessed_text)['pooled_output']"
      ]
    },
    {
      "cell_type": "code",
      "execution_count": 30,
      "metadata": {
        "id": "QOZz6d3uF-jr"
      },
      "outputs": [],
      "source": [
        "#testing the function\n",
        "test1 = [\"How are you doing today?\",\"The weather is bad\"]\n",
        "test1_output = sequence_embedding(test1)"
      ]
    },
    {
      "cell_type": "markdown",
      "metadata": {
        "id": "4jfWixlOGmTD"
      },
      "source": [
        "Checking cosine similarity between sentences"
      ]
    },
    {
      "cell_type": "code",
      "execution_count": 31,
      "metadata": {
        "colab": {
          "base_uri": "https://localhost:8080/"
        },
        "id": "edTOkNLPGc_4",
        "outputId": "b31808f9-4761-4247-82a1-3b6a5e4b2e12"
      },
      "outputs": [
        {
          "data": {
            "text/plain": [
              "array([[0.9089683]], dtype=float32)"
            ]
          },
          "execution_count": 31,
          "metadata": {},
          "output_type": "execute_result"
        }
      ],
      "source": [
        "from sklearn.metrics.pairwise import cosine_similarity\n",
        "cosine_similarity(np.array(test1_output[0]).reshape(1,-1),np.array(test1_output[1]).reshape(1,-1))\n",
        "#the following output show our text are near to similar"
      ]
    },
    {
      "cell_type": "markdown",
      "metadata": {
        "id": "OiYdyUn_L_oO"
      },
      "source": [
        "**Model Building**  \n",
        "Following model will be a function model"
      ]
    },
    {
      "cell_type": "code",
      "execution_count": 33,
      "metadata": {
        "id": "9juMJwQNZyqF"
      },
      "outputs": [],
      "source": [
        "#Bert processing layers\n",
        "input_layer = tf.keras.layers.Input(shape=(),dtype = tf.string,name='Text')\n",
        "preprocessing_layer = bert_preprocess_model(input_layer)\n",
        "encoding_layer = bert_encoder_model(preprocessing_layer)\n",
        "\n",
        "#Neural Network Layers\n",
        "# Neural network layers\n",
        "l1 = tf.keras.layers.Dense(64,activation='relu',name=\"Dense1\")(encoding_layer['pooled_output'])\n",
        "l2 = tf.keras.layers.Dropout(0.1,name=\"dropout1\")(l1)\n",
        "l3 = tf.keras.layers.Dense(32,activation='relu',name=\"Dense2\")(l2)\n",
        "l4 = tf.keras.layers.Dropout(0.1, name=\"dropout2\")(l3)\n",
        "l5 = tf.keras.layers.Dense(32,activation='relu',name=\"Dense2\")(l4)\n",
        "l6 = tf.keras.layers.Dropout(0.1, name=\"dropout2\")(l3)\n",
        "output = tf.keras.layers.Dense(1, activation='sigmoid', name=\"output\")(l6)\n",
        "\n",
        "\n",
        "#final model\n",
        "model = tf.keras.Model(inputs=[input_layer], outputs = [output])"
      ]
    },
    {
      "cell_type": "code",
      "execution_count": null,
      "metadata": {
        "id": "XR34TNMzNO4y"
      },
      "outputs": [],
      "source": [
        "model.summary()"
      ]
    },
    {
      "cell_type": "code",
      "execution_count": 35,
      "metadata": {
        "id": "6Hud7u-6OcKz"
      },
      "outputs": [],
      "source": [
        "#defining the metrics and compiling the model\n",
        "METRICS = [\n",
        "      tf.keras.metrics.BinaryAccuracy(name='accuracy'),\n",
        "      tf.keras.metrics.Precision(name='precision'),\n",
        "      tf.keras.metrics.Recall(name='recall')\n",
        "]\n",
        "\n",
        "model.compile(optimizer='adam',loss='binary_crossentropy',metrics=METRICS)"
      ]
    },
    {
      "cell_type": "markdown",
      "metadata": {
        "id": "EIplBFBAPLpN"
      },
      "source": [
        "Training the Model"
      ]
    },
    {
      "cell_type": "code",
      "execution_count": 36,
      "metadata": {
        "colab": {
          "base_uri": "https://localhost:8080/"
        },
        "id": "xS-_-y1MPKId",
        "outputId": "6dadf3a0-f407-4145-ee69-ffade54f0cf5"
      },
      "outputs": [
        {
          "name": "stdout",
          "output_type": "stream",
          "text": [
            "Epoch 1/25\n",
            "47/47 [==============================] - 12s 176ms/step - loss: 0.7114 - accuracy: 0.5360 - precision: 0.5296 - recall: 0.4864\n",
            "Epoch 2/25\n",
            "47/47 [==============================] - 9s 185ms/step - loss: 0.6970 - accuracy: 0.5253 - precision: 0.5189 - recall: 0.4484\n",
            "Epoch 3/25\n",
            "47/47 [==============================] - 10s 214ms/step - loss: 0.6752 - accuracy: 0.5733 - precision: 0.5736 - recall: 0.5082\n",
            "Epoch 4/25\n",
            "47/47 [==============================] - 9s 195ms/step - loss: 0.6587 - accuracy: 0.5960 - precision: 0.5976 - recall: 0.5408\n",
            "Epoch 5/25\n",
            "47/47 [==============================] - 8s 180ms/step - loss: 0.6400 - accuracy: 0.6173 - precision: 0.6122 - recall: 0.6005\n",
            "Epoch 6/25\n",
            "47/47 [==============================] - 8s 172ms/step - loss: 0.6173 - accuracy: 0.6680 - precision: 0.6686 - recall: 0.6413\n",
            "Epoch 7/25\n",
            "47/47 [==============================] - 10s 208ms/step - loss: 0.5969 - accuracy: 0.6947 - precision: 0.7003 - recall: 0.6603\n",
            "Epoch 8/25\n",
            "47/47 [==============================] - 8s 170ms/step - loss: 0.5523 - accuracy: 0.7400 - precision: 0.7344 - recall: 0.7364\n",
            "Epoch 9/25\n",
            "47/47 [==============================] - 8s 177ms/step - loss: 0.5054 - accuracy: 0.7920 - precision: 0.7978 - recall: 0.7717\n",
            "Epoch 10/25\n",
            "47/47 [==============================] - 8s 163ms/step - loss: 0.4431 - accuracy: 0.8213 - precision: 0.8268 - recall: 0.8043\n",
            "Epoch 11/25\n",
            "47/47 [==============================] - 8s 175ms/step - loss: 0.4646 - accuracy: 0.7907 - precision: 0.7813 - recall: 0.7962\n",
            "Epoch 12/25\n",
            "47/47 [==============================] - 8s 165ms/step - loss: 0.4513 - accuracy: 0.7893 - precision: 0.7901 - recall: 0.7772\n",
            "Epoch 13/25\n",
            "47/47 [==============================] - 8s 174ms/step - loss: 0.3897 - accuracy: 0.8213 - precision: 0.8112 - recall: 0.8288\n",
            "Epoch 14/25\n",
            "47/47 [==============================] - 8s 171ms/step - loss: 0.3933 - accuracy: 0.8413 - precision: 0.8374 - recall: 0.8397\n",
            "Epoch 15/25\n",
            "47/47 [==============================] - 9s 196ms/step - loss: 0.3486 - accuracy: 0.8547 - precision: 0.8607 - recall: 0.8397\n",
            "Epoch 16/25\n",
            "47/47 [==============================] - 9s 187ms/step - loss: 0.3433 - accuracy: 0.8600 - precision: 0.8583 - recall: 0.8560\n",
            "Epoch 17/25\n",
            "47/47 [==============================] - 9s 188ms/step - loss: 0.3678 - accuracy: 0.8507 - precision: 0.8497 - recall: 0.8451\n",
            "Epoch 18/25\n",
            "47/47 [==============================] - 8s 169ms/step - loss: 0.3549 - accuracy: 0.8587 - precision: 0.8619 - recall: 0.8478\n",
            "Epoch 19/25\n",
            "47/47 [==============================] - 8s 173ms/step - loss: 0.3629 - accuracy: 0.8507 - precision: 0.8636 - recall: 0.8261\n",
            "Epoch 20/25\n",
            "47/47 [==============================] - 8s 168ms/step - loss: 0.3147 - accuracy: 0.8707 - precision: 0.8692 - recall: 0.8668\n",
            "Epoch 21/25\n",
            "47/47 [==============================] - 8s 170ms/step - loss: 0.3193 - accuracy: 0.8640 - precision: 0.8674 - recall: 0.8533\n",
            "Epoch 22/25\n",
            "47/47 [==============================] - 8s 172ms/step - loss: 0.3239 - accuracy: 0.8760 - precision: 0.8767 - recall: 0.8696\n",
            "Epoch 23/25\n",
            "47/47 [==============================] - 8s 169ms/step - loss: 0.3272 - accuracy: 0.8707 - precision: 0.8860 - recall: 0.8451\n",
            "Epoch 24/25\n",
            "47/47 [==============================] - 8s 171ms/step - loss: 0.3095 - accuracy: 0.8720 - precision: 0.8716 - recall: 0.8668\n",
            "Epoch 25/25\n",
            "47/47 [==============================] - 8s 168ms/step - loss: 0.3069 - accuracy: 0.8760 - precision: 0.8706 - recall: 0.8777\n"
          ]
        },
        {
          "data": {
            "text/plain": [
              "<keras.src.callbacks.History at 0x7b2f909808e0>"
            ]
          },
          "execution_count": 36,
          "metadata": {},
          "output_type": "execute_result"
        }
      ],
      "source": [
        "model.fit(X_train, y_train, batch_size = 16 , epochs= 25)"
      ]
    },
    {
      "cell_type": "code",
      "execution_count": null,
      "metadata": {
        "id": "dMDE8Jn1PR8D"
      },
      "outputs": [],
      "source": [
        "model.evaluate(X_test, y_test)"
      ]
    },
    {
      "cell_type": "code",
      "execution_count": 46,
      "metadata": {
        "colab": {
          "base_uri": "https://localhost:8080/"
        },
        "id": "eDQfk18jsXmS",
        "outputId": "58215ecf-136f-4372-b1e0-bd39ad0e76b1"
      },
      "outputs": [
        {
          "name": "stdout",
          "output_type": "stream",
          "text": [
            "8/8 [==============================] - 3s 341ms/step\n"
          ]
        }
      ],
      "source": [
        "y_predicted = model.predict(X_test)\n",
        "y_predicted = y_predicted.flatten()\n",
        "y_predicted = np.where(y_predicted>0.5,1,0)"
      ]
    },
    {
      "cell_type": "code",
      "execution_count": 47,
      "metadata": {
        "colab": {
          "base_uri": "https://localhost:8080/"
        },
        "id": "hTL4dPBbs6kL",
        "outputId": "9ee05e30-b94f-468d-d756-40a1c774a5ee"
      },
      "outputs": [
        {
          "data": {
            "text/plain": [
              "array([[113,   5],\n",
              "       [ 26, 106]])"
            ]
          },
          "execution_count": 47,
          "metadata": {},
          "output_type": "execute_result"
        }
      ],
      "source": [
        "from sklearn.metrics import confusion_matrix, classification_report\n",
        "cm = confusion_matrix(y_test, y_predicted)\n",
        "cm"
      ]
    },
    {
      "cell_type": "code",
      "execution_count": 20,
      "metadata": {
        "colab": {
          "base_uri": "https://localhost:8080/",
          "height": 472
        },
        "id": "9g221YrstCz0",
        "outputId": "b4a4559b-4922-41f9-a879-446e8485b4ff"
      },
      "outputs": [
        {
          "data": {
            "text/plain": [
              "Text(50.722222222222214, 0.5, 'Truth')"
            ]
          },
          "execution_count": 20,
          "metadata": {},
          "output_type": "execute_result"
        },
        {
          "data": {
            "image/png": "[encoded data removed]",
            "text/plain": [
              "<Figure size 640x480 with 2 Axes>"
            ]
          },
          "metadata": {},
          "output_type": "display_data"
        }
      ],
      "source": [
        "from matplotlib import pyplot as plt\n",
        "import seaborn as sn\n",
        "sn.heatmap(cm, annot=True, fmt='d')\n",
        "plt.xlabel('Predicted')\n",
        "plt.ylabel('Truth')"
      ]
    },
    {
      "cell_type": "code",
      "execution_count": 48,
      "metadata": {
        "colab": {
          "base_uri": "https://localhost:8080/"
        },
        "id": "pvQFpUBRtJKn",
        "outputId": "73d2ebbe-db5d-429c-e571-67707e134b89"
      },
      "outputs": [
        {
          "name": "stdout",
          "output_type": "stream",
          "text": [
            "              precision    recall  f1-score   support\n",
            "\n",
            "           0       0.81      0.96      0.88       118\n",
            "           1       0.95      0.80      0.87       132\n",
            "\n",
            "    accuracy                           0.88       250\n",
            "   macro avg       0.88      0.88      0.88       250\n",
            "weighted avg       0.89      0.88      0.88       250\n",
            "\n"
          ]
        }
      ],
      "source": [
        "print(classification_report(y_test, y_predicted))"
      ]
    },
    {
      "cell_type": "code",
      "execution_count": 39,
      "metadata": {
        "colab": {
          "base_uri": "https://localhost:8080/"
        },
        "id": "_xbJ0BXBIalm",
        "outputId": "f1e09fe4-fd23-4e6f-8577-22b76d61be4d"
      },
      "outputs": [
        {
          "name": "stdout",
          "output_type": "stream",
          "text": [
            "1/1 [==============================] - 1s 813ms/step\n"
          ]
        },
        {
          "data": {
            "text/plain": [
              "array([0.08453742, 0.9363733 , 0.5179599 , 0.10055462], dtype=float32)"
            ]
          },
          "execution_count": 39,
          "metadata": {},
          "output_type": "execute_result"
        }
      ],
      "source": [
        "#Testing with unseen data\n",
        "y_predicted = model.predict(['I dont recommend','I like the product','Go for it ', 'waste of money'])\n",
        "y_predicted = y_predicted.flatten()\n",
        "y_predicted #Values below 0.5 are negative reviews and vice versa"
      ]
    },
    {
      "cell_type": "code",
      "execution_count": 55,
      "metadata": {
        "id": "Y7uDP2DRtarh"
      },
      "outputs": [],
      "source": [
        "model.save(\"/content/drive/MyDrive/Trials/bert_model.h5\")"
      ]
    },
    {
      "cell_type": "code",
      "execution_count": 50,
      "metadata": {
        "id": "DYZIeSQL6LhR"
      },
      "outputs": [],
      "source": [
        "# Load the model\n",
        "loaded_model = tf.keras.models.load_model(\"/content/drive/MyDrive/Trials/bert_model.h5\",custom_objects={'KerasLayer':hub.KerasLayer})\n"
      ]
    },
    {
      "cell_type": "code",
      "execution_count": 52,
      "metadata": {
        "colab": {
          "base_uri": "https://localhost:8080/"
        },
        "id": "FUsx8tLvJfkc",
        "outputId": "5a5d89b2-f5c6-45af-f957-25d4833db45f"
      },
      "outputs": [
        {
          "name": "stdout",
          "output_type": "stream",
          "text": [
            "1/1 [==============================] - 3s 3s/step\n"
          ]
        },
        {
          "data": {
            "text/plain": [
              "array([0.04705647], dtype=float32)"
            ]
          },
          "execution_count": 52,
          "metadata": {},
          "output_type": "execute_result"
        }
      ],
      "source": [
        "predictions = loaded_model.predict([\"Its bad\"])\n",
        "predictions = predictions .flatten()\n",
        "predictions"
      ]
    },
    {
      "cell_type": "markdown",
      "metadata": {
        "id": "QGsoUaLHnq7b"
      },
      "source": [
        "## Sentiment Classification With SVM for deployment Puposes\n",
        "\n",
        "---\n",
        "\n",
        "Due to my system limiations , this was convinient to deploy on local setup due to less dependencies and minimal resource usage\n",
        "comapared to model saved by tensorflow\n",
        "\n"
      ]
    },
    {
      "cell_type": "code",
      "execution_count": 8,
      "metadata": {
        "id": "MNenrgjj05Ln"
      },
      "outputs": [],
      "source": [
        "import pandas as pd\n",
        "from sklearn.feature_extraction.text import CountVectorizer\n",
        "from sklearn.svm import SVC\n",
        "from sklearn.pipeline import Pipeline\n",
        "import pickle\n",
        "from sklearn.model_selection import train_test_split\n",
        "from sklearn.metrics import accuracy_score, precision_score, recall_score, f1_score, confusion_matrix"
      ]
    },
    {
      "cell_type": "code",
      "execution_count": 35,
      "metadata": {
        "id": "7WVSO7SVnzYB"
      },
      "outputs": [],
      "source": [
        "# Load your dataset\n",
        "data = pd.read_csv(\"/content/amazon_cells_labelled.txt\", delimiter='\\t', header=None)\n",
        "data.columns = [\"Text\", \"Sentiment\"] #1 positve 0 Negative\n",
        "data  # Replace with the actual path to your dataset\n",
        "\n",
        "# Split the dataset into features (X) and target (y)\n",
        "\n",
        "X_train,X_test,y_train,y_test = train_test_split(data['Text'],data['Sentiment'],test_size = 0.25)\n",
        "\n",
        "# Create a pipeline with CountVectorizer and SVM\n",
        "text_clf = Pipeline([\n",
        "    ('vectorizer', CountVectorizer()),\n",
        "    ('classifier', SVC(kernel='linear'))\n",
        "])\n",
        "\n",
        "# Fit the pipeline on your data\n",
        "text_clf.fit(X_train, y_train)\n",
        "\n",
        "# Save the pipeline to a pickle file\n",
        "with open('amazon_reviews_svm_model.pkl', 'wb') as model_file:\n",
        "    pickle.dump(text_clf, model_file)\n"
      ]
    },
    {
      "cell_type": "code",
      "execution_count": 30,
      "metadata": {
        "id": "l94bEQJ32Dxh"
      },
      "outputs": [],
      "source": [
        "y_pred = text_clf.predict(X_test)"
      ]
    },
    {
      "cell_type": "code",
      "execution_count": 31,
      "metadata": {
        "colab": {
          "base_uri": "https://localhost:8080/"
        },
        "id": "sdBum94e2O1_",
        "outputId": "dded6f01-9c62-41a1-8f14-f91283336dcf"
      },
      "outputs": [
        {
          "name": "stdout",
          "output_type": "stream",
          "text": [
            "Accuracy: 0.836\n",
            "Precision: 0.8914728682170543\n",
            "Recall: 0.8098591549295775\n",
            "F1 Score: 0.8487084870848709\n",
            "Confusion Matrix:\n",
            "[[ 94  14]\n",
            " [ 27 115]]\n"
          ]
        }
      ],
      "source": [
        "# Calculate accuracy\n",
        "accuracy = accuracy_score(y_test, y_pred)\n",
        "\n",
        "# Calculate precision\n",
        "precision = precision_score(y_test, y_pred)\n",
        "\n",
        "# Calculate recall\n",
        "recall = recall_score(y_test, y_pred)\n",
        "\n",
        "# Calculate F1-score\n",
        "f1 = f1_score(y_test, y_pred)\n",
        "\n",
        "# Generate a confusion matrix\n",
        "confusion = confusion_matrix(y_test, y_pred)\n",
        "\n",
        "print(f\"Accuracy: {accuracy}\")\n",
        "print(f\"Precision: {precision}\")\n",
        "print(f\"Recall: {recall}\")\n",
        "print(f\"F1 Score: {f1}\")\n",
        "print(\"Confusion Matrix:\")\n",
        "print(confusion)"
      ]
    },
    {
      "cell_type": "code",
      "execution_count": 34,
      "metadata": {
        "colab": {
          "base_uri": "https://localhost:8080/"
        },
        "id": "v3L6cfsfnwSw",
        "outputId": "f740f121-de74-4c55-a9a4-fdc9d1eb4303"
      },
      "outputs": [
        {
          "data": {
            "text/plain": [
              "array([0])"
            ]
          },
          "execution_count": 34,
          "metadata": {},
          "output_type": "execute_result"
        }
      ],
      "source": [
        "#To load the model for later use:\n",
        "with open('amazon_reviews_svm_model.pkl', 'rb') as model_file:\n",
        "    loaded_model = pickle.load(model_file)\n",
        "\n",
        "#Now we can use the loaded_model to make predictions\n",
        "predictions = loaded_model.predict(['Not recommended'])\n",
        "predictions"
      ]
    }
  ],
  "metadata": {
    "accelerator": "GPU",
    "colab": {
      "provenance": []
    },
    "kernelspec": {
      "display_name": "Python 3",
      "name": "python3"
    },
    "language_info": {
      "name": "python"
    }
  },
  "nbformat": 4,
  "nbformat_minor": 0
}
